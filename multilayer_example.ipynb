{
 "cells": [
  {
   "cell_type": "markdown",
   "id": "6ca23f3b",
   "metadata": {},
   "source": [
    "## Notebook showing an implementation of our multilayer community detection method on dummy data"
   ]
  },
  {
   "cell_type": "code",
   "execution_count": 5,
   "id": "e0ef6890",
   "metadata": {},
   "outputs": [],
   "source": [
    "#importing libraries\n",
    "\n",
    "%matplotlib inline\n",
    "import numpy as np\n",
    "import numpy.matlib\n",
    "import configcorr as cg #for correlation matrix null model\n",
    "from scipy.sparse import spdiags\n",
    "import pandas as pd\n",
    "import matplotlib.pyplot as plt\n",
    "import seaborn as sns\n",
    "from netneurotools import cluster #for consensus clustering\n",
    "import matlab.engine #for GenLouvain\n",
    "\n",
    "import corr_comm_detection as ccd #access my community detection functions"
   ]
  },
  {
   "cell_type": "code",
   "execution_count": 95,
   "id": "708971fd",
   "metadata": {},
   "outputs": [],
   "source": [
    "#generate random covariance matrices (we will generate three matrices/layers with 10 nodes each for this example)\n",
    "np.random.seed(10)\n",
    "rand_covs = []\n",
    "for i in range(3):\n",
    "    rand_mat = np.random.rand(10,10) #random 10x10 matrix\n",
    "    rand_cov = np.dot(rand_mat, rand_mat.transpose()) #random 10x10 covariance matrix\n",
    "    rand_covs.append(rand_cov)"
   ]
  },
  {
   "cell_type": "markdown",
   "id": "3b7cfbbf",
   "metadata": {},
   "source": [
    "### Visualize the random covariance matrices we will be performing the multilayer community detection on"
   ]
  },
  {
   "cell_type": "code",
   "execution_count": 96,
   "id": "21293268",
   "metadata": {},
   "outputs": [
    {
     "data": {
      "image/png": "[encoded data removed]",
      "text/plain": [
       "<Figure size 1080x360 with 4 Axes>"
      ]
     },
     "metadata": {
      "needs_background": "light"
     },
     "output_type": "display_data"
    }
   ],
   "source": [
    "fig,(ax1,ax2,ax3, axcb) = plt.subplots(1,4, \n",
    "            gridspec_kw={'width_ratios':[1,1,1,0.08]}, figsize=(15,5))\n",
    "g1 = sns.heatmap(rand_covs[0],cmap='viridis',cbar=False,ax=ax1)\n",
    "g2 = sns.heatmap(rand_covs[1],cmap='viridis',cbar=False,ax=ax2)\n",
    "g3 = sns.heatmap(rand_covs[2],cmap='viridis',cbar_ax=axcb,ax=ax3)\n",
    "ax1.title.set_text('Layer 0')\n",
    "ax2.title.set_text('Layer 1')\n",
    "ax3.title.set_text('Layer 2')\n",
    "axcb.title.set_text('Covariance')\n",
    "plt.show()"
   ]
  },
  {
   "cell_type": "code",
   "execution_count": 97,
   "id": "d3125141",
   "metadata": {},
   "outputs": [
    {
     "name": "stdout",
     "output_type": "stream",
     "text": [
      "===============================================================================\n",
      "                                     CVXPY                                     \n",
      "                                     v1.2.1                                    \n",
      "===============================================================================\n",
      "(CVXPY) Mar 05 12:00:26 PM: Your problem has 100 variables, 2 constraints, and 0 parameters.\n",
      "(CVXPY) Mar 05 12:00:26 PM: It is compliant with the following grammars: DCP, DQCP\n",
      "(CVXPY) Mar 05 12:00:26 PM: (If you need to solve this problem multiple times, but with different data, consider using parameters.)\n",
      "(CVXPY) Mar 05 12:00:26 PM: CVXPY will first compile your problem; then, it will invoke a numerical solver to obtain a solution.\n",
      "-------------------------------------------------------------------------------\n",
      "                                  Compilation                                  \n",
      "-------------------------------------------------------------------------------\n",
      "(CVXPY) Mar 05 12:00:26 PM: Compiling problem (target solver=SCS).\n",
      "(CVXPY) Mar 05 12:00:26 PM: Reduction chain: Dcp2Cone -> CvxAttr2Constr -> ConeMatrixStuffing -> SCS\n",
      "(CVXPY) Mar 05 12:00:26 PM: Applying reduction Dcp2Cone\n",
      "(CVXPY) Mar 05 12:00:26 PM: Applying reduction CvxAttr2Constr\n",
      "(CVXPY) Mar 05 12:00:26 PM: Applying reduction ConeMatrixStuffing\n",
      "(CVXPY) Mar 05 12:00:26 PM: Applying reduction SCS\n",
      "(CVXPY) Mar 05 12:00:26 PM: Finished problem compilation (took 1.270e-01 seconds).\n",
      "-------------------------------------------------------------------------------\n",
      "                                Numerical solver                               \n",
      "-------------------------------------------------------------------------------\n",
      "(CVXPY) Mar 05 12:00:26 PM: Invoking solver SCS  to obtain a solution.\n",
      "------------------------------------------------------------------\n",
      "\t       SCS v3.2.0 - Splitting Conic Solver\n",
      "\t(c) Brendan O'Donoghue, Stanford University, 2012\n",
      "------------------------------------------------------------------\n",
      "problem:  variables n: 120, constraints m: 315\n",
      "cones: \t  z: primal zero / dual free vars: 20\n",
      "\t  s: psd vars: 265, ssize: 2\n",
      "\t  e: exp vars: 30, dual exp vars: 0\n",
      "settings: eps_abs: 1.0e-05, eps_rel: 1.0e-05, eps_infeas: 1.0e-07\n",
      "\t  alpha: 1.50, scale: 1.00e-01, adaptive_scale: 1\n",
      "\t  max_iters: 100000, normalize: 1, rho_x: 1.00e-06\n",
      "\t  acceleration_lookback: 10, acceleration_interval: 10\n",
      "lin-sys:  sparse-direct\n",
      "\t  nnz(A): 305, nnz(P): 0\n",
      "------------------------------------------------------------------\n",
      " iter | pri res | dua res |   gap   |   obj   |  scale  | time (s)\n",
      "------------------------------------------------------------------\n",
      "     0| 1.08e+01  7.53e-01  1.48e+02 -4.86e+01  1.00e-01  7.54e-03 \n",
      "   250| 2.40e-02  1.09e-04  8.41e-02  1.12e+01  1.00e-01  2.20e-01 \n",
      "   500| 8.22e-04  2.19e-05  4.34e-04  1.14e+01  3.28e-01  3.94e-01 \n",
      "   700| 1.24e-05  6.12e-06  7.49e-05  1.14e+01  3.28e-01  5.43e-01 \n",
      "------------------------------------------------------------------\n",
      "status:  solved\n",
      "timings: total: 5.48e-01s = setup: 4.93e-03s + solve: 5.43e-01s\n",
      "\t lin-sys: 4.28e-03s, cones: 5.29e-01s, accel: 6.11e-04s\n",
      "------------------------------------------------------------------\n",
      "objective = 11.377052\n",
      "------------------------------------------------------------------\n",
      "-------------------------------------------------------------------------------\n",
      "                                    Summary                                    \n",
      "-------------------------------------------------------------------------------\n",
      "(CVXPY) Mar 05 12:00:27 PM: Problem status: optimal\n",
      "(CVXPY) Mar 05 12:00:27 PM: Optimal value: 1.138e+01\n",
      "(CVXPY) Mar 05 12:00:27 PM: Compilation took 1.270e-01 seconds\n",
      "(CVXPY) Mar 05 12:00:27 PM: Solver (including time spent in interface) took 5.509e-01 seconds\n",
      "===============================================================================\n",
      "                                     CVXPY                                     \n",
      "                                     v1.2.1                                    \n",
      "===============================================================================\n",
      "(CVXPY) Mar 05 12:00:27 PM: Your problem has 100 variables, 2 constraints, and 0 parameters.\n",
      "(CVXPY) Mar 05 12:00:27 PM: It is compliant with the following grammars: DCP, DQCP\n",
      "(CVXPY) Mar 05 12:00:27 PM: (If you need to solve this problem multiple times, but with different data, consider using parameters.)\n",
      "(CVXPY) Mar 05 12:00:27 PM: CVXPY will first compile your problem; then, it will invoke a numerical solver to obtain a solution.\n",
      "-------------------------------------------------------------------------------\n",
      "                                  Compilation                                  \n",
      "-------------------------------------------------------------------------------\n",
      "(CVXPY) Mar 05 12:00:27 PM: Compiling problem (target solver=SCS).\n",
      "(CVXPY) Mar 05 12:00:27 PM: Reduction chain: Dcp2Cone -> CvxAttr2Constr -> ConeMatrixStuffing -> SCS\n",
      "(CVXPY) Mar 05 12:00:27 PM: Applying reduction Dcp2Cone\n",
      "(CVXPY) Mar 05 12:00:27 PM: Applying reduction CvxAttr2Constr\n",
      "(CVXPY) Mar 05 12:00:27 PM: Applying reduction ConeMatrixStuffing\n",
      "(CVXPY) Mar 05 12:00:27 PM: Applying reduction SCS\n",
      "(CVXPY) Mar 05 12:00:27 PM: Finished problem compilation (took 8.977e-02 seconds).\n",
      "-------------------------------------------------------------------------------\n",
      "                                Numerical solver                               \n",
      "-------------------------------------------------------------------------------\n",
      "(CVXPY) Mar 05 12:00:27 PM: Invoking solver SCS  to obtain a solution.\n",
      "------------------------------------------------------------------\n",
      "\t       SCS v3.2.0 - Splitting Conic Solver\n",
      "\t(c) Brendan O'Donoghue, Stanford University, 2012\n",
      "------------------------------------------------------------------\n",
      "problem:  variables n: 120, constraints m: 315\n",
      "cones: \t  z: primal zero / dual free vars: 20\n",
      "\t  s: psd vars: 265, ssize: 2\n",
      "\t  e: exp vars: 30, dual exp vars: 0\n",
      "settings: eps_abs: 1.0e-05, eps_rel: 1.0e-05, eps_infeas: 1.0e-07\n",
      "\t  alpha: 1.50, scale: 1.00e-01, adaptive_scale: 1\n",
      "\t  max_iters: 100000, normalize: 1, rho_x: 1.00e-06\n",
      "\t  acceleration_lookback: 10, acceleration_interval: 10\n",
      "lin-sys:  sparse-direct\n",
      "\t  nnz(A): 305, nnz(P): 0\n",
      "------------------------------------------------------------------\n",
      " iter | pri res | dua res |   gap   |   obj   |  scale  | time (s)\n",
      "------------------------------------------------------------------\n",
      "     0| 1.08e+01  7.53e-01  1.48e+02 -4.88e+01  1.00e-01  7.94e-03 \n",
      "   250| 1.57e-02  9.07e-05  6.46e-02  1.09e+01  1.00e-01  2.21e-01 \n",
      "   500| 6.47e-03  2.12e-04  2.85e-02  1.10e+01  3.24e-01  3.96e-01 \n",
      "   750| 5.18e-05  1.73e-06  2.39e-04  1.11e+01  3.24e-01  5.82e-01 \n",
      "   775| 4.77e-06  3.04e-06  2.43e-05  1.11e+01  3.24e-01  5.99e-01 \n",
      "------------------------------------------------------------------\n",
      "status:  solved\n",
      "timings: total: 6.12e-01s = setup: 1.31e-02s + solve: 5.99e-01s\n",
      "\t lin-sys: 5.29e-03s, cones: 5.82e-01s, accel: 5.28e-04s\n",
      "------------------------------------------------------------------\n",
      "objective = 11.056173\n",
      "------------------------------------------------------------------\n",
      "-------------------------------------------------------------------------------\n",
      "                                    Summary                                    \n",
      "-------------------------------------------------------------------------------\n",
      "(CVXPY) Mar 05 12:00:28 PM: Problem status: optimal\n",
      "(CVXPY) Mar 05 12:00:28 PM: Optimal value: 1.106e+01\n",
      "(CVXPY) Mar 05 12:00:28 PM: Compilation took 8.977e-02 seconds\n",
      "(CVXPY) Mar 05 12:00:28 PM: Solver (including time spent in interface) took 6.150e-01 seconds\n",
      "===============================================================================\n",
      "                                     CVXPY                                     \n",
      "                                     v1.2.1                                    \n",
      "===============================================================================\n",
      "(CVXPY) Mar 05 12:00:28 PM: Your problem has 100 variables, 2 constraints, and 0 parameters.\n",
      "(CVXPY) Mar 05 12:00:28 PM: It is compliant with the following grammars: DCP, DQCP\n",
      "(CVXPY) Mar 05 12:00:28 PM: (If you need to solve this problem multiple times, but with different data, consider using parameters.)\n"
     ]
    },
    {
     "name": "stdout",
     "output_type": "stream",
     "text": [
      "(CVXPY) Mar 05 12:00:28 PM: CVXPY will first compile your problem; then, it will invoke a numerical solver to obtain a solution.\n",
      "-------------------------------------------------------------------------------\n",
      "                                  Compilation                                  \n",
      "-------------------------------------------------------------------------------\n",
      "(CVXPY) Mar 05 12:00:28 PM: Compiling problem (target solver=SCS).\n",
      "(CVXPY) Mar 05 12:00:28 PM: Reduction chain: Dcp2Cone -> CvxAttr2Constr -> ConeMatrixStuffing -> SCS\n",
      "(CVXPY) Mar 05 12:00:28 PM: Applying reduction Dcp2Cone\n",
      "(CVXPY) Mar 05 12:00:28 PM: Applying reduction CvxAttr2Constr\n",
      "(CVXPY) Mar 05 12:00:28 PM: Applying reduction ConeMatrixStuffing\n",
      "(CVXPY) Mar 05 12:00:28 PM: Applying reduction SCS\n",
      "(CVXPY) Mar 05 12:00:28 PM: Finished problem compilation (took 6.446e-02 seconds).\n",
      "-------------------------------------------------------------------------------\n",
      "                                Numerical solver                               \n",
      "-------------------------------------------------------------------------------\n",
      "(CVXPY) Mar 05 12:00:28 PM: Invoking solver SCS  to obtain a solution.\n",
      "------------------------------------------------------------------\n",
      "\t       SCS v3.2.0 - Splitting Conic Solver\n",
      "\t(c) Brendan O'Donoghue, Stanford University, 2012\n",
      "------------------------------------------------------------------\n",
      "problem:  variables n: 120, constraints m: 315\n",
      "cones: \t  z: primal zero / dual free vars: 20\n",
      "\t  s: psd vars: 265, ssize: 2\n",
      "\t  e: exp vars: 30, dual exp vars: 0\n",
      "settings: eps_abs: 1.0e-05, eps_rel: 1.0e-05, eps_infeas: 1.0e-07\n",
      "\t  alpha: 1.50, scale: 1.00e-01, adaptive_scale: 1\n",
      "\t  max_iters: 100000, normalize: 1, rho_x: 1.00e-06\n",
      "\t  acceleration_lookback: 10, acceleration_interval: 10\n",
      "lin-sys:  sparse-direct\n",
      "\t  nnz(A): 305, nnz(P): 0\n",
      "------------------------------------------------------------------\n",
      " iter | pri res | dua res |   gap   |   obj   |  scale  | time (s)\n",
      "------------------------------------------------------------------\n",
      "     0| 1.08e+01  7.53e-01  1.48e+02 -4.89e+01  1.00e-01  3.38e-03 \n",
      "   250| 2.04e-02  1.08e-04  7.64e-02  1.09e+01  1.00e-01  2.05e-01 \n",
      "   500| 9.22e-03  3.48e-04  5.31e-02  1.11e+01  3.25e-01  3.82e-01 \n",
      "   750| 1.45e-05  7.35e-06  1.39e-05  1.11e+01  3.25e-01  5.66e-01 \n",
      "------------------------------------------------------------------\n",
      "status:  solved\n",
      "timings: total: 5.71e-01s = setup: 5.50e-03s + solve: 5.66e-01s\n",
      "\t lin-sys: 4.54e-03s, cones: 5.55e-01s, accel: 5.26e-04s\n",
      "------------------------------------------------------------------\n",
      "objective = 11.133161\n",
      "------------------------------------------------------------------\n",
      "-------------------------------------------------------------------------------\n",
      "                                    Summary                                    \n",
      "-------------------------------------------------------------------------------\n",
      "(CVXPY) Mar 05 12:00:28 PM: Problem status: optimal\n",
      "(CVXPY) Mar 05 12:00:28 PM: Optimal value: 1.113e+01\n",
      "(CVXPY) Mar 05 12:00:28 PM: Compilation took 6.446e-02 seconds\n",
      "(CVXPY) Mar 05 12:00:28 PM: Solver (including time spent in interface) took 5.735e-01 seconds\n"
     ]
    }
   ],
   "source": [
    "#run the community detection code (in corr_comm_detection.py) to obtain the parition and significance results\n",
    "part_array, zscores = ccd.main(rand_covs,L=100,\n",
    "    genlouvain_file_location='/Users/madisonrussell/Desktop/gene_networks_code/GenLouvain-master',\n",
    "    tolerance=1e-5,runs=200,gamma=1.0,omega=0.1)"
   ]
  },
  {
   "cell_type": "code",
   "execution_count": 98,
   "id": "a0528196",
   "metadata": {},
   "outputs": [
    {
     "name": "stdout",
     "output_type": "stream",
     "text": [
      "[25.352468549423385, 27.67906794917708]\n"
     ]
    }
   ],
   "source": [
    "#print the Z score for each community detected\n",
    "print(zscores)"
   ]
  },
  {
   "cell_type": "markdown",
   "id": "ccc81662",
   "metadata": {},
   "source": [
    "A large positive Z score indicates that the community detected is statistically significant because it has a higher total intralayer weight within the community than expected."
   ]
  },
  {
   "cell_type": "markdown",
   "id": "aee2db85",
   "metadata": {},
   "source": [
    "### Visualize the partition of the covariance matrices"
   ]
  },
  {
   "cell_type": "code",
   "execution_count": 101,
   "id": "9ef69da8",
   "metadata": {},
   "outputs": [
    {
     "data": {
      "image/png": "[encoded data removed]",
      "text/plain": [
       "<Figure size 504x360 with 2 Axes>"
      ]
     },
     "metadata": {
      "needs_background": "light"
     },
     "output_type": "display_data"
    }
   ],
   "source": [
    "plt.figure(figsize=(7,5))\n",
    "# get discrete colormap\n",
    "dcmap = plt.get_cmap('Dark2', np.max(part_array) - np.min(part_array) + 1)\n",
    "ax = sns.heatmap(part_array.transpose(),cmap=dcmap,cbar_kws=dict(ticks=list(range(1,np.max(part_array)+1))),\n",
    "                 annot=True, linewidth=.5)\n",
    "plt.title('Community Assignments')\n",
    "plt.xlabel('Node')\n",
    "plt.ylabel('Layer')\n",
    "plt.show()"
   ]
  },
  {
   "cell_type": "code",
   "execution_count": null,
   "id": "86b2a7e2",
   "metadata": {},
   "outputs": [],
   "source": []
  }
 ],
 "metadata": {
  "kernelspec": {
   "display_name": "Python 3",
   "language": "python",
   "name": "python3"
  },
  "language_info": {
   "codemirror_mode": {
    "name": "ipython",
    "version": 3
   },
   "file_extension": ".py",
   "mimetype": "text/x-python",
   "name": "python",
   "nbconvert_exporter": "python",
   "pygments_lexer": "ipython3",
   "version": "3.9.9"
  }
 },
 "nbformat": 4,
 "nbformat_minor": 5
}
